{
 "cells": [
  {
   "cell_type": "code",
   "execution_count": 1,
   "outputs": [
    {
     "data": {
      "text/plain": "'\\n- this notebooks is used for developing purposes\\n- it updates de date\\n- build the documentation\\n- pushes everything to github\\n- pushes to pypi\\n'"
     },
     "execution_count": 1,
     "metadata": {},
     "output_type": "execute_result"
    }
   ],
   "source": [
    "'''\n",
    "- this notebooks is used for developing purposes\n",
    "- it updates de date\n",
    "- build the documentation\n",
    "- pushes everything to github\n",
    "- pushes to pypi\n",
    "'''"
   ],
   "metadata": {
    "collapsed": false,
    "ExecuteTime": {
     "start_time": "2023-04-07T12:01:57.319120Z",
     "end_time": "2023-04-07T12:01:57.323355Z"
    }
   }
  },
  {
   "cell_type": "code",
   "execution_count": 2,
   "outputs": [],
   "source": [
    "import datetime\n",
    "import toml\n",
    "import subprocess"
   ],
   "metadata": {
    "collapsed": false,
    "ExecuteTime": {
     "start_time": "2023-04-07T12:01:57.324325Z",
     "end_time": "2023-04-07T12:01:57.329444Z"
    }
   }
  },
  {
   "cell_type": "code",
   "execution_count": 3,
   "outputs": [],
   "source": [
    "# !sphinx-apidoc -f -o docs/source ./src/bnn_tools/"
   ],
   "metadata": {
    "collapsed": false,
    "ExecuteTime": {
     "start_time": "2023-04-07T12:02:00.864123Z",
     "end_time": "2023-04-07T12:02:00.871258Z"
    }
   }
  },
  {
   "cell_type": "code",
   "execution_count": 8,
   "metadata": {
    "ExecuteTime": {
     "start_time": "2023-04-07T12:07:18.057911Z",
     "end_time": "2023-04-07T12:07:21.109327Z"
    },
    "collapsed": false
   },
   "outputs": [
    {
     "name": "stdout",
     "output_type": "stream",
     "text": [
      "\u001B[01mRunning Sphinx v6.1.3\u001B[39;49;00m\n",
      "\u001B[01mloading pickled environment... \u001B[39;49;00mdone\n",
      "[autosummary] generating autosummary for: bnn_tools.rst, index.rst, installation.rst, min_versions.rst, modules.rst, readme.md, release-history.rst, usage.rst\n",
      "\u001B[01mmyst v1.0.0:\u001B[39;49;00m MdParserConfig(commonmark_only=False, gfm_only=False, enable_extensions=set(), disable_syntax=[], all_links_external=False, url_schemes=('http', 'https', 'mailto', 'ftp'), ref_domains=None, fence_as_directive=set(), number_code_blocks=[], title_to_header=False, heading_anchors=0, heading_slug_func=None, html_meta={}, footnote_transition=True, words_per_minute=200, substitutions={}, linkify_fuzzy_links=True, dmath_allow_labels=True, dmath_allow_space=True, dmath_allow_digits=True, dmath_double_inline=False, update_mathjax=True, mathjax_classes='tex2jax_process|mathjax_process|math|output_area', enable_checkboxes=False, suppress_warnings=[], highlight_code_blocks=True)\n",
      "\u001B[01mbuilding [mo]: \u001B[39;49;00mtargets for 0 po files that are out of date\n",
      "\u001B[01mwriting output... \u001B[39;49;00m\n",
      "\u001B[01mbuilding [html]: \u001B[39;49;00mtargets for 1 source files that are out of date\n",
      "\u001B[01mupdating environment: \u001B[39;49;00m0 added, 1 changed, 0 removed\n",
      "\u001B[01mreading sources... \u001B[39;49;00m[100%] \u001B[35mreadme\u001B[39;49;00m                                               \r\n",
      "\u001B[01mlooking for now-outdated files... \u001B[39;49;00mnone found\n",
      "\u001B[01mpickling environment... \u001B[39;49;00mdone\n",
      "\u001B[01mchecking consistency... \u001B[39;49;00mdone\n",
      "\u001B[01mpreparing documents... \u001B[39;49;00mdone\n",
      "\u001B[01mwriting output... \u001B[39;49;00m[100%] \u001B[32mreadme\u001B[39;49;00m                                                \r\n",
      "\u001B[01mgenerating indices... \u001B[39;49;00mgenindex py-modindex done\n",
      "\u001B[01mhighlighting module code... \u001B[39;49;00m[100%] \u001B[94mbnn_tools.funs_bokeh_flx\u001B[39;49;00m                    \r\n",
      "\u001B[01mwriting additional pages... \u001B[39;49;00msearch done\n",
      "\u001B[01mcopying static files... \u001B[39;49;00mdone\n",
      "\u001B[01mcopying extra files... \u001B[39;49;00mdone\n",
      "\u001B[01mdumping search index in English (code: en)... \u001B[39;49;00mdone\n",
      "\u001B[01mdumping object inventory... \u001B[39;49;00mdone\n",
      "\u001B[01mbuild succeeded.\u001B[39;49;00m\n",
      "\n",
      "The HTML pages are in build/html.\n"
     ]
    },
    {
     "data": {
      "text/plain": "CompletedProcess(args='cd docs; make html', returncode=0)"
     },
     "execution_count": 8,
     "metadata": {},
     "output_type": "execute_result"
    }
   ],
   "source": [
    "# make documentation\n",
    "subprocess.run(\"cd docs; make html\", shell=True)"
   ]
  },
  {
   "cell_type": "code",
   "execution_count": 9,
   "outputs": [
    {
     "data": {
      "text/plain": "CompletedProcess(args='open docs/build/html/index.html', returncode=0)"
     },
     "execution_count": 9,
     "metadata": {},
     "output_type": "execute_result"
    }
   ],
   "source": [
    "subprocess.run(\"open docs/build/html/index.html\", shell=True)"
   ],
   "metadata": {
    "collapsed": false,
    "ExecuteTime": {
     "start_time": "2023-04-07T12:07:21.113018Z",
     "end_time": "2023-04-07T12:07:21.342870Z"
    }
   }
  },
  {
   "cell_type": "code",
   "execution_count": 10,
   "metadata": {
    "ExecuteTime": {
     "start_time": "2023-04-07T12:12:42.642906Z",
     "end_time": "2023-04-07T12:12:42.818877Z"
    },
    "collapsed": false
   },
   "outputs": [
    {
     "name": "stdout",
     "output_type": "stream",
     "text": [
      "[master a749ff8] from jl\n",
      " 4 files changed, 304 insertions(+)\n",
      " create mode 100644 docs/build/html/.nojekyll\n",
      " create mode 100644 docs/build/html/_sources/readme.md.txt\n",
      " create mode 100644 docs/build/html/readme.html\n",
      " create mode 100644 docs/source/readme.md\n"
     ]
    },
    {
     "data": {
      "text/plain": "CompletedProcess(args=\"git commit -m 'from jl'\", returncode=0)"
     },
     "execution_count": 10,
     "metadata": {},
     "output_type": "execute_result"
    }
   ],
   "source": [
    "# commit to git\n",
    "subprocess.run(\"git commit -m 'from jl'\", shell=True)"
   ]
  },
  {
   "cell_type": "code",
   "execution_count": 11,
   "metadata": {
    "ExecuteTime": {
     "start_time": "2023-04-07T12:12:55.115898Z",
     "end_time": "2023-04-07T12:12:56.807806Z"
    },
    "collapsed": false
   },
   "outputs": [
    {
     "name": "stderr",
     "output_type": "stream",
     "text": [
      "To https://github.com/daliagachc/bnn-tools-repo.git\n",
      "   76caa29..a749ff8  master -> master\n"
     ]
    },
    {
     "data": {
      "text/plain": "CompletedProcess(args='git push', returncode=0)"
     },
     "execution_count": 11,
     "metadata": {},
     "output_type": "execute_result"
    }
   ],
   "source": [
    "#push to git\n",
    "\n",
    "subprocess.run(\"git push\", shell=True)"
   ]
  },
  {
   "cell_type": "code",
   "execution_count": 12,
   "metadata": {
    "ExecuteTime": {
     "start_time": "2023-04-07T12:13:11.864298Z",
     "end_time": "2023-04-07T12:13:17.157000Z"
    },
    "collapsed": false
   },
   "outputs": [
    {
     "name": "stdout",
     "output_type": "stream",
     "text": [
      "\u001B[1m* Creating venv isolated environment...\u001B[0m\n",
      "\u001B[1m* Installing packages in isolated environment... (setuptools >= 40.8.0, wheel)\u001B[0m\n",
      "\u001B[1m* Getting build dependencies for sdist...\u001B[0m\n",
      "running egg_info\n",
      "writing src/bnn_tools.egg-info/PKG-INFO\n",
      "writing dependency_links to src/bnn_tools.egg-info/dependency_links.txt\n",
      "writing requirements to src/bnn_tools.egg-info/requires.txt\n",
      "writing top-level names to src/bnn_tools.egg-info/top_level.txt\n",
      "reading manifest file 'src/bnn_tools.egg-info/SOURCES.txt'\n",
      "reading manifest template 'MANIFEST.in'\n",
      "adding license file 'LICENSE'\n",
      "adding license file 'AUTHORS.rst'\n",
      "writing manifest file 'src/bnn_tools.egg-info/SOURCES.txt'\n",
      "\u001B[1m* Building sdist...\u001B[0m\n"
     ]
    },
    {
     "name": "stderr",
     "output_type": "stream",
     "text": [
      "warning: no files found matching 'README.rst'\n",
      "warning: no previously-included files matching '__pycache__' found under directory '*'\n",
      "warning: no previously-included files matching '*.py[co]' found under directory '*'\n",
      "warning: no files found matching 'bnn_tools/_version.py'\n"
     ]
    },
    {
     "name": "stdout",
     "output_type": "stream",
     "text": [
      "running sdist\n",
      "running egg_info\n",
      "writing src/bnn_tools.egg-info/PKG-INFO\n",
      "writing dependency_links to src/bnn_tools.egg-info/dependency_links.txt\n",
      "writing requirements to src/bnn_tools.egg-info/requires.txt\n",
      "writing top-level names to src/bnn_tools.egg-info/top_level.txt\n",
      "reading manifest file 'src/bnn_tools.egg-info/SOURCES.txt'\n",
      "reading manifest template 'MANIFEST.in'\n",
      "adding license file 'LICENSE'\n",
      "adding license file 'AUTHORS.rst'\n",
      "writing manifest file 'src/bnn_tools.egg-info/SOURCES.txt'\n",
      "running check\n",
      "creating bnn-tools-0.1.111.post8.dev0+ga749ff8\n",
      "creating bnn-tools-0.1.111.post8.dev0+ga749ff8/docs\n",
      "creating bnn-tools-0.1.111.post8.dev0+ga749ff8/docs/source\n",
      "creating bnn-tools-0.1.111.post8.dev0+ga749ff8/src\n",
      "creating bnn-tools-0.1.111.post8.dev0+ga749ff8/src/bnn_tools\n",
      "creating bnn-tools-0.1.111.post8.dev0+ga749ff8/src/bnn_tools.egg-info\n",
      "creating bnn-tools-0.1.111.post8.dev0+ga749ff8/src/bnn_tools_charquini\n",
      "creating bnn-tools-0.1.111.post8.dev0+ga749ff8/tests\n",
      "copying files to bnn-tools-0.1.111.post8.dev0+ga749ff8...\n",
      "copying AUTHORS.rst -> bnn-tools-0.1.111.post8.dev0+ga749ff8\n",
      "copying CONTRIBUTING.rst -> bnn-tools-0.1.111.post8.dev0+ga749ff8\n",
      "copying LICENSE -> bnn-tools-0.1.111.post8.dev0+ga749ff8\n",
      "copying MANIFEST.in -> bnn-tools-0.1.111.post8.dev0+ga749ff8\n",
      "copying README.md -> bnn-tools-0.1.111.post8.dev0+ga749ff8\n",
      "copying pyproject.toml -> bnn-tools-0.1.111.post8.dev0+ga749ff8\n",
      "copying requirements.txt -> bnn-tools-0.1.111.post8.dev0+ga749ff8\n",
      "copying setup.cfg -> bnn-tools-0.1.111.post8.dev0+ga749ff8\n",
      "copying setup.py -> bnn-tools-0.1.111.post8.dev0+ga749ff8\n",
      "copying versioneer.py -> bnn-tools-0.1.111.post8.dev0+ga749ff8\n",
      "copying docs/Makefile -> bnn-tools-0.1.111.post8.dev0+ga749ff8/docs\n",
      "copying docs/make.bat -> bnn-tools-0.1.111.post8.dev0+ga749ff8/docs\n",
      "copying docs/source/bnn_tools.rst -> bnn-tools-0.1.111.post8.dev0+ga749ff8/docs/source\n",
      "copying docs/source/conf.py -> bnn-tools-0.1.111.post8.dev0+ga749ff8/docs/source\n",
      "copying docs/source/index.rst -> bnn-tools-0.1.111.post8.dev0+ga749ff8/docs/source\n",
      "copying docs/source/installation.rst -> bnn-tools-0.1.111.post8.dev0+ga749ff8/docs/source\n",
      "copying docs/source/min_versions.rst -> bnn-tools-0.1.111.post8.dev0+ga749ff8/docs/source\n",
      "copying docs/source/modules.rst -> bnn-tools-0.1.111.post8.dev0+ga749ff8/docs/source\n",
      "copying docs/source/release-history.rst -> bnn-tools-0.1.111.post8.dev0+ga749ff8/docs/source\n",
      "copying docs/source/usage.rst -> bnn-tools-0.1.111.post8.dev0+ga749ff8/docs/source\n",
      "copying src/bnn_tools/__init__.py -> bnn-tools-0.1.111.post8.dev0+ga749ff8/src/bnn_tools\n",
      "copying src/bnn_tools/_version.py -> bnn-tools-0.1.111.post8.dev0+ga749ff8/src/bnn_tools\n",
      "copying src/bnn_tools/basic_funs.py -> bnn-tools-0.1.111.post8.dev0+ga749ff8/src/bnn_tools\n",
      "copying src/bnn_tools/bnn_array.py -> bnn-tools-0.1.111.post8.dev0+ga749ff8/src/bnn_tools\n",
      "copying src/bnn_tools/coag_sink.py -> bnn-tools-0.1.111.post8.dev0+ga749ff8/src/bnn_tools\n",
      "copying src/bnn_tools/funs.py -> bnn-tools-0.1.111.post8.dev0+ga749ff8/src/bnn_tools\n",
      "copying src/bnn_tools/funs_bokeh_flx.py -> bnn-tools-0.1.111.post8.dev0+ga749ff8/src/bnn_tools\n",
      "copying src/bnn_tools/gr_gui.py -> bnn-tools-0.1.111.post8.dev0+ga749ff8/src/bnn_tools\n",
      "copying src/bnn_tools.egg-info/PKG-INFO -> bnn-tools-0.1.111.post8.dev0+ga749ff8/src/bnn_tools.egg-info\n",
      "copying src/bnn_tools.egg-info/SOURCES.txt -> bnn-tools-0.1.111.post8.dev0+ga749ff8/src/bnn_tools.egg-info\n",
      "copying src/bnn_tools.egg-info/dependency_links.txt -> bnn-tools-0.1.111.post8.dev0+ga749ff8/src/bnn_tools.egg-info\n",
      "copying src/bnn_tools.egg-info/requires.txt -> bnn-tools-0.1.111.post8.dev0+ga749ff8/src/bnn_tools.egg-info\n",
      "copying src/bnn_tools.egg-info/top_level.txt -> bnn-tools-0.1.111.post8.dev0+ga749ff8/src/bnn_tools.egg-info\n",
      "copying src/bnn_tools_charquini/__init__.py -> bnn-tools-0.1.111.post8.dev0+ga749ff8/src/bnn_tools_charquini\n",
      "copying src/bnn_tools_charquini/_version.py -> bnn-tools-0.1.111.post8.dev0+ga749ff8/src/bnn_tools_charquini\n",
      "copying src/bnn_tools_charquini/basic_funs.py -> bnn-tools-0.1.111.post8.dev0+ga749ff8/src/bnn_tools_charquini\n",
      "copying src/bnn_tools_charquini/bnn_array.py -> bnn-tools-0.1.111.post8.dev0+ga749ff8/src/bnn_tools_charquini\n",
      "copying src/bnn_tools_charquini/coag_sink.py -> bnn-tools-0.1.111.post8.dev0+ga749ff8/src/bnn_tools_charquini\n",
      "copying src/bnn_tools_charquini/funs.py -> bnn-tools-0.1.111.post8.dev0+ga749ff8/src/bnn_tools_charquini\n",
      "copying src/bnn_tools_charquini/funs_bokeh_flx.py -> bnn-tools-0.1.111.post8.dev0+ga749ff8/src/bnn_tools_charquini\n",
      "copying src/bnn_tools_charquini/gr_gui.py -> bnn-tools-0.1.111.post8.dev0+ga749ff8/src/bnn_tools_charquini\n",
      "copying src/bnn_tools_charquini/gr_gui_backup.py -> bnn-tools-0.1.111.post8.dev0+ga749ff8/src/bnn_tools_charquini\n",
      "copying src/bnn_tools_charquini/gr_gui_init.py -> bnn-tools-0.1.111.post8.dev0+ga749ff8/src/bnn_tools_charquini\n",
      "copying src/bnn_tools_charquini/gr_gui_old.py -> bnn-tools-0.1.111.post8.dev0+ga749ff8/src/bnn_tools_charquini\n",
      "copying tests/test_examples.py -> bnn-tools-0.1.111.post8.dev0+ga749ff8/tests\n",
      "Writing bnn-tools-0.1.111.post8.dev0+ga749ff8/setup.cfg\n",
      "UPDATING bnn-tools-0.1.111.post8.dev0+ga749ff8/bnn_tools/_version.py\n"
     ]
    },
    {
     "name": "stderr",
     "output_type": "stream",
     "text": [
      "warning: no files found matching 'README.rst'\n",
      "warning: no previously-included files matching '__pycache__' found under directory '*'\n",
      "warning: no previously-included files matching '*.py[co]' found under directory '*'\n",
      "warning: no files found matching 'bnn_tools/_version.py'\n",
      "error: [Errno 2] No such file or directory: 'bnn-tools-0.1.111.post8.dev0+ga749ff8/bnn_tools/_version.py'\n"
     ]
    },
    {
     "name": "stdout",
     "output_type": "stream",
     "text": [
      "\n",
      "\u001B[91mERROR\u001B[0m Backend subprocess exited when trying to invoke build_sdist\n"
     ]
    },
    {
     "data": {
      "text/plain": "CompletedProcess(args='python3 -m build', returncode=1)"
     },
     "execution_count": 12,
     "metadata": {},
     "output_type": "execute_result"
    }
   ],
   "source": [
    "# build\n",
    "subprocess.run(\"python3 -m build\", shell=True)"
   ]
  },
  {
   "cell_type": "code",
   "execution_count": 20,
   "metadata": {
    "ExecuteTime": {
     "end_time": "2023-04-06T21:16:06.632876Z",
     "start_time": "2023-04-06T21:15:58.858116Z"
    },
    "collapsed": false
   },
   "outputs": [
    {
     "name": "stdout",
     "output_type": "stream",
     "text": [
      "Uploading distributions to https://upload.pypi.org/legacy/\n",
      "Uploading uscit-23.4.6.0-py3-none-any.whl\n",
      "\u001B[2K\u001B[35m100%\u001B[0m \u001B[38;2;114;156;31m━━━━━━━━━━━━━━━━━━━━━━━━━━━━━━━━━━━━━━━━\u001B[0m \u001B[32m7.5/7.5 kB\u001B[0m • \u001B[33m00:00\u001B[0m • \u001B[31m?\u001B[0m\n",
      "\u001B[?25hUploading uscit-23.4.6.20.20-py3-none-any.whl\n",
      "\u001B[2K\u001B[35m100%\u001B[0m \u001B[38;2;114;156;31m━━━━━━━━━━━━━━━━━━━━━━━━━━━━━━━━━━━━━━━━\u001B[0m \u001B[32m7.6/7.6 kB\u001B[0m • \u001B[33m00:00\u001B[0m • \u001B[31m?\u001B[0m\n",
      "\u001B[?25hUploading uscit-23.4.6.21.9-py3-none-any.whl\n",
      "\u001B[2K\u001B[35m100%\u001B[0m \u001B[38;2;114;156;31m━━━━━━━━━━━━━━━━━━━━━━━━━━━━━━━━━━━━━━━━\u001B[0m \u001B[32m7.8/7.8 kB\u001B[0m • \u001B[33m00:00\u001B[0m • \u001B[31m?\u001B[0m\n",
      "\u001B[?25hUploading uscit-23.4.6.0.tar.gz\n",
      "\u001B[2K\u001B[35m100%\u001B[0m \u001B[38;2;114;156;31m━━━━━━━━━━━━━━━━━━━━━━━━━━━━━━━━━━━━━━━━\u001B[0m \u001B[32m7.4/7.4 kB\u001B[0m • \u001B[33m00:00\u001B[0m • \u001B[31m?\u001B[0m\n",
      "\u001B[?25hUploading uscit-23.4.6.20.20.tar.gz\n",
      "\u001B[2K\u001B[35m100%\u001B[0m \u001B[38;2;114;156;31m━━━━━━━━━━━━━━━━━━━━━━━━━━━━━━━━━━━━━━━━\u001B[0m \u001B[32m7.4/7.4 kB\u001B[0m • \u001B[33m00:00\u001B[0m • \u001B[31m?\u001B[0m\n",
      "\u001B[?25hUploading uscit-23.4.6.21.9.tar.gz\n",
      "\u001B[2K\u001B[35m100%\u001B[0m \u001B[38;2;114;156;31m━━━━━━━━━━━━━━━━━━━━━━━━━━━━━━━━━━━━━━━━\u001B[0m \u001B[32m7.6/7.6 kB\u001B[0m • \u001B[33m00:00\u001B[0m • \u001B[31m?\u001B[0m\n",
      "\u001B[?25h\n",
      "\u001B[32mView at:\u001B[0m\n",
      "https://pypi.org/project/uscit/23.4.6.21.9/\n",
      "https://pypi.org/project/uscit/23.4.6.20.20/\n",
      "https://pypi.org/project/uscit/23.4.6.0/\n"
     ]
    },
    {
     "data": {
      "text/plain": [
       "CompletedProcess(args='\\nsource ./token_twine;     python3 -m twine upload -u __token__     -p $PASS_TWINE      dist/*\\n', returncode=0)"
      ]
     },
     "execution_count": 20,
     "metadata": {},
     "output_type": "execute_result"
    }
   ],
   "source": [
    "# toke_twine is a file with the pypi token that for\n",
    "# security reasons is not uplodade to github\n",
    "st = '''\n",
    "source ./token_twine; \\\n",
    "    python3 -m twine upload -u __token__ \\\n",
    "    -p $PASS_TWINE \\\n",
    "     dist/*\n",
    "'''\n",
    "\n",
    "subprocess.run(st, shell=True)"
   ]
  },
  {
   "cell_type": "code",
   "execution_count": null,
   "metadata": {
    "collapsed": false
   },
   "outputs": [],
   "source": []
  }
 ],
 "metadata": {
  "jupytext": {
   "formats": "ipynb,py:percent"
  },
  "kernelspec": {
   "display_name": "Python 3",
   "language": "python",
   "name": "python3"
  },
  "language_info": {
   "codemirror_mode": {
    "name": "ipython",
    "version": 2
   },
   "file_extension": ".py",
   "mimetype": "text/x-python",
   "name": "python",
   "nbconvert_exporter": "python",
   "pygments_lexer": "ipython2",
   "version": "2.7.6"
  }
 },
 "nbformat": 4,
 "nbformat_minor": 0
}
